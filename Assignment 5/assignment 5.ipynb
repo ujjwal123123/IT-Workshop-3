{
 "cells": [
  {
   "cell_type": "code",
   "execution_count": 3,
   "source": [
    "import boto3\n",
    "from mypy_boto3_rds import RDSClient\n",
    "from pprint import pprint\n",
    "import botocore.exceptions\n"
   ],
   "outputs": [],
   "metadata": {}
  },
  {
   "cell_type": "markdown",
   "source": [
    "# Create RDS client for Boto3"
   ],
   "metadata": {}
  },
  {
   "cell_type": "code",
   "execution_count": 4,
   "source": [
    "database_name = \"assignment-5-ujjwal\"\n",
    "database_username = \"admin\"\n",
    "database_password = \"ujjwal_is_the_best_narcissist\"\n",
    "rds_client: RDSClient = boto3.client(\"rds\", region_name=\"us-east-1\")"
   ],
   "outputs": [],
   "metadata": {}
  },
  {
   "cell_type": "markdown",
   "source": [
    "# Create database instance"
   ],
   "metadata": {}
  },
  {
   "cell_type": "code",
   "execution_count": 3,
   "source": [
    "try:\n",
    "    new_instance = rds_client.create_db_instance(\n",
    "        Engine=\"mysql\",\n",
    "        DBInstanceClass=\"db.t2.micro\",\n",
    "        DBInstanceIdentifier=database_name,\n",
    "        PubliclyAccessible=True,\n",
    "        MasterUsername=database_username,\n",
    "        MasterUserPassword=database_password,\n",
    "        AllocatedStorage=20,\n",
    "    )[\"DBInstance\"]\n",
    "    pprint(new_instance)\n",
    "except botocore.exceptions.ClientError as error:\n",
    "    print(error)\n"
   ],
   "outputs": [
    {
     "output_type": "stream",
     "name": "stdout",
     "text": [
      "{'AllocatedStorage': 20,\n",
      " 'AssociatedRoles': [],\n",
      " 'AutoMinorVersionUpgrade': True,\n",
      " 'BackupRetentionPeriod': 1,\n",
      " 'CACertificateIdentifier': 'rds-ca-2019',\n",
      " 'CopyTagsToSnapshot': False,\n",
      " 'CustomerOwnedIpEnabled': False,\n",
      " 'DBInstanceArn': 'arn:aws:rds:us-east-1:602291782684:db:assignment-5-ujjwal',\n",
      " 'DBInstanceClass': 'db.t2.micro',\n",
      " 'DBInstanceIdentifier': 'assignment-5-ujjwal',\n",
      " 'DBInstanceStatus': 'creating',\n",
      " 'DBParameterGroups': [{'DBParameterGroupName': 'default.mysql8.0',\n",
      "                        'ParameterApplyStatus': 'in-sync'}],\n",
      " 'DBSecurityGroups': [],\n",
      " 'DBSubnetGroup': {'DBSubnetGroupDescription': 'default',\n",
      "                   'DBSubnetGroupName': 'default',\n",
      "                   'SubnetGroupStatus': 'Complete',\n",
      "                   'Subnets': [{'SubnetAvailabilityZone': {'Name': 'us-east-1c'},\n",
      "                                'SubnetIdentifier': 'subnet-2c6b470d',\n",
      "                                'SubnetOutpost': {},\n",
      "                                'SubnetStatus': 'Active'},\n",
      "                               {'SubnetAvailabilityZone': {'Name': 'us-east-1d'},\n",
      "                                'SubnetIdentifier': 'subnet-6b0cfa27',\n",
      "                                'SubnetOutpost': {},\n",
      "                                'SubnetStatus': 'Active'},\n",
      "                               {'SubnetAvailabilityZone': {'Name': 'us-east-1e'},\n",
      "                                'SubnetIdentifier': 'subnet-f194fec0',\n",
      "                                'SubnetOutpost': {},\n",
      "                                'SubnetStatus': 'Active'},\n",
      "                               {'SubnetAvailabilityZone': {'Name': 'us-east-1f'},\n",
      "                                'SubnetIdentifier': 'subnet-b1ffe7bf',\n",
      "                                'SubnetOutpost': {},\n",
      "                                'SubnetStatus': 'Active'},\n",
      "                               {'SubnetAvailabilityZone': {'Name': 'us-east-1a'},\n",
      "                                'SubnetIdentifier': 'subnet-0eefcc51',\n",
      "                                'SubnetOutpost': {},\n",
      "                                'SubnetStatus': 'Active'},\n",
      "                               {'SubnetAvailabilityZone': {'Name': 'us-east-1b'},\n",
      "                                'SubnetIdentifier': 'subnet-91e0c6f7',\n",
      "                                'SubnetOutpost': {},\n",
      "                                'SubnetStatus': 'Active'}],\n",
      "                   'VpcId': 'vpc-8f2a58f2'},\n",
      " 'DbInstancePort': 0,\n",
      " 'DbiResourceId': 'db-57OZ3RVDHYAIW37ZBQNKP3MBNU',\n",
      " 'DeletionProtection': False,\n",
      " 'DomainMemberships': [],\n",
      " 'Engine': 'mysql',\n",
      " 'EngineVersion': '8.0.23',\n",
      " 'IAMDatabaseAuthenticationEnabled': False,\n",
      " 'LicenseModel': 'general-public-license',\n",
      " 'MasterUsername': 'admin',\n",
      " 'MonitoringInterval': 0,\n",
      " 'MultiAZ': False,\n",
      " 'OptionGroupMemberships': [{'OptionGroupName': 'default:mysql-8-0',\n",
      "                             'Status': 'in-sync'}],\n",
      " 'PendingModifiedValues': {'MasterUserPassword': '****'},\n",
      " 'PerformanceInsightsEnabled': False,\n",
      " 'PreferredBackupWindow': '05:53-06:23',\n",
      " 'PreferredMaintenanceWindow': 'sat:07:09-sat:07:39',\n",
      " 'PubliclyAccessible': True,\n",
      " 'ReadReplicaDBInstanceIdentifiers': [],\n",
      " 'StorageEncrypted': False,\n",
      " 'StorageType': 'gp2',\n",
      " 'TagList': [],\n",
      " 'VpcSecurityGroups': [{'Status': 'active',\n",
      "                        'VpcSecurityGroupId': 'sg-56e08948'}]}\n"
     ]
    }
   ],
   "metadata": {}
  },
  {
   "cell_type": "markdown",
   "source": [
    "# Access the database instance"
   ],
   "metadata": {}
  },
  {
   "cell_type": "code",
   "execution_count": 4,
   "source": [
    "creation_waiter = rds_client.get_waiter(\"db_instance_available\")\n",
    "creation_waiter.wait(DBInstanceIdentifier=database_name)\n",
    "\n",
    "instance = rds_client.describe_db_instances()[\"DBInstances\"][0]\n",
    "instance\n"
   ],
   "outputs": [
    {
     "output_type": "execute_result",
     "data": {
      "text/plain": [
       "{'DBInstanceIdentifier': 'assignment-5-ujjwal',\n",
       " 'DBInstanceClass': 'db.t2.micro',\n",
       " 'Engine': 'mysql',\n",
       " 'DBInstanceStatus': 'available',\n",
       " 'MasterUsername': 'admin',\n",
       " 'Endpoint': {'Address': 'assignment-5-ujjwal.cihimlupayhg.us-east-1.rds.amazonaws.com',\n",
       "  'Port': 3306,\n",
       "  'HostedZoneId': 'Z2R2ITUGPM61AM'},\n",
       " 'AllocatedStorage': 20,\n",
       " 'InstanceCreateTime': datetime.datetime(2021, 9, 21, 15, 23, 16, 196000, tzinfo=tzutc()),\n",
       " 'PreferredBackupWindow': '05:53-06:23',\n",
       " 'BackupRetentionPeriod': 1,\n",
       " 'DBSecurityGroups': [],\n",
       " 'VpcSecurityGroups': [{'VpcSecurityGroupId': 'sg-56e08948',\n",
       "   'Status': 'active'}],\n",
       " 'DBParameterGroups': [{'DBParameterGroupName': 'default.mysql8.0',\n",
       "   'ParameterApplyStatus': 'in-sync'}],\n",
       " 'AvailabilityZone': 'us-east-1f',\n",
       " 'DBSubnetGroup': {'DBSubnetGroupName': 'default',\n",
       "  'DBSubnetGroupDescription': 'default',\n",
       "  'VpcId': 'vpc-8f2a58f2',\n",
       "  'SubnetGroupStatus': 'Complete',\n",
       "  'Subnets': [{'SubnetIdentifier': 'subnet-2c6b470d',\n",
       "    'SubnetAvailabilityZone': {'Name': 'us-east-1c'},\n",
       "    'SubnetOutpost': {},\n",
       "    'SubnetStatus': 'Active'},\n",
       "   {'SubnetIdentifier': 'subnet-6b0cfa27',\n",
       "    'SubnetAvailabilityZone': {'Name': 'us-east-1d'},\n",
       "    'SubnetOutpost': {},\n",
       "    'SubnetStatus': 'Active'},\n",
       "   {'SubnetIdentifier': 'subnet-f194fec0',\n",
       "    'SubnetAvailabilityZone': {'Name': 'us-east-1e'},\n",
       "    'SubnetOutpost': {},\n",
       "    'SubnetStatus': 'Active'},\n",
       "   {'SubnetIdentifier': 'subnet-b1ffe7bf',\n",
       "    'SubnetAvailabilityZone': {'Name': 'us-east-1f'},\n",
       "    'SubnetOutpost': {},\n",
       "    'SubnetStatus': 'Active'},\n",
       "   {'SubnetIdentifier': 'subnet-0eefcc51',\n",
       "    'SubnetAvailabilityZone': {'Name': 'us-east-1a'},\n",
       "    'SubnetOutpost': {},\n",
       "    'SubnetStatus': 'Active'},\n",
       "   {'SubnetIdentifier': 'subnet-91e0c6f7',\n",
       "    'SubnetAvailabilityZone': {'Name': 'us-east-1b'},\n",
       "    'SubnetOutpost': {},\n",
       "    'SubnetStatus': 'Active'}]},\n",
       " 'PreferredMaintenanceWindow': 'sat:07:09-sat:07:39',\n",
       " 'PendingModifiedValues': {},\n",
       " 'LatestRestorableTime': datetime.datetime(2021, 9, 21, 16, 20, 1, tzinfo=tzutc()),\n",
       " 'MultiAZ': False,\n",
       " 'EngineVersion': '8.0.23',\n",
       " 'AutoMinorVersionUpgrade': True,\n",
       " 'ReadReplicaDBInstanceIdentifiers': [],\n",
       " 'LicenseModel': 'general-public-license',\n",
       " 'OptionGroupMemberships': [{'OptionGroupName': 'default:mysql-8-0',\n",
       "   'Status': 'in-sync'}],\n",
       " 'PubliclyAccessible': True,\n",
       " 'StorageType': 'gp2',\n",
       " 'DbInstancePort': 0,\n",
       " 'StorageEncrypted': False,\n",
       " 'DbiResourceId': 'db-57OZ3RVDHYAIW37ZBQNKP3MBNU',\n",
       " 'CACertificateIdentifier': 'rds-ca-2019',\n",
       " 'DomainMemberships': [],\n",
       " 'CopyTagsToSnapshot': False,\n",
       " 'MonitoringInterval': 0,\n",
       " 'DBInstanceArn': 'arn:aws:rds:us-east-1:602291782684:db:assignment-5-ujjwal',\n",
       " 'IAMDatabaseAuthenticationEnabled': False,\n",
       " 'PerformanceInsightsEnabled': False,\n",
       " 'DeletionProtection': False,\n",
       " 'AssociatedRoles': [],\n",
       " 'TagList': [],\n",
       " 'CustomerOwnedIpEnabled': False,\n",
       " 'ActivityStreamStatus': 'stopped'}"
      ]
     },
     "metadata": {},
     "execution_count": 4
    }
   ],
   "metadata": {}
  },
  {
   "cell_type": "markdown",
   "source": [
    "Print DB instance hostname:"
   ],
   "metadata": {}
  },
  {
   "cell_type": "code",
   "execution_count": 5,
   "source": [
    "host_name = instance[\"Endpoint\"][\"Address\"]\n",
    "host_name\n"
   ],
   "outputs": [
    {
     "output_type": "execute_result",
     "data": {
      "text/plain": [
       "'assignment-5-ujjwal.cihimlupayhg.us-east-1.rds.amazonaws.com'"
      ]
     },
     "metadata": {},
     "execution_count": 5
    }
   ],
   "metadata": {}
  },
  {
   "cell_type": "code",
   "execution_count": null,
   "source": [],
   "outputs": [],
   "metadata": {}
  },
  {
   "cell_type": "code",
   "execution_count": 6,
   "source": [
    "rds_client.delete_db_instance(DBInstanceIdentifier=database_name, SkipFinalSnapshot=True)\n",
    "deletion_waiter = rds_client.get_waiter(\"db_instance_deleted\")\n",
    "deletion_waiter.wait(DBInstanceIdentifier=database_name)\n"
   ],
   "outputs": [],
   "metadata": {}
  }
 ],
 "metadata": {
  "orig_nbformat": 4,
  "language_info": {
   "name": "python",
   "version": "3.9.7",
   "mimetype": "text/x-python",
   "codemirror_mode": {
    "name": "ipython",
    "version": 3
   },
   "pygments_lexer": "ipython3",
   "nbconvert_exporter": "python",
   "file_extension": ".py"
  },
  "kernelspec": {
   "name": "python3",
   "display_name": "Python 3.9.7 64-bit"
  },
  "interpreter": {
   "hash": "767d51c1340bd893661ea55ea3124f6de3c7a262a8b4abca0554b478b1e2ff90"
  }
 },
 "nbformat": 4,
 "nbformat_minor": 2
}