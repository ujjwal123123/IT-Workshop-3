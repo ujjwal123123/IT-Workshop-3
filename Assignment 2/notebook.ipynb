{
    "cells": [
        {
            "cell_type": "markdown",
            "source": [
                "With help from these webpages:\n",
                "\n",
                "- [Boto3 documentation - Boto3 Docs 1.18.28 documentation](https://boto3.amazonaws.com/v1/documentation/api/latest/index.html)\n",
                "- [boto3: How to Use Any AWS Service with Python | Dashbird](https://dashbird.io/blog/boto3-aws-python/)\n",
                "- [AWS EC2, Boto3 and Python: Complete Guide with examples](https://www.learnaws.org/2020/12/16/aws-ec2-boto3-ultimate-guide/)\n",
                "- [A Basic Introduction to Boto3 - Predictive Hacks](https://predictivehacks.com/a-basic-introduction-to-boto3/)"
            ],
            "metadata": {}
        },
        {
            "cell_type": "code",
            "execution_count": 6,
            "source": [
                "import boto3\n",
                "from pprint import pprint\n",
                "from typing import List\n",
                "from mypy_boto3_ec2.service_resource import EC2ServiceResource\n"
            ],
            "outputs": [],
            "metadata": {}
        },
        {
            "cell_type": "code",
            "execution_count": 7,
            "source": [
                "shell_script = open(\"script.sh\", \"r\").read()\n",
                "print(shell_script)\n"
            ],
            "outputs": [
                {
                    "output_type": "stream",
                    "name": "stdout",
                    "text": [
                        "#!/bin/bash\n",
                        "\n",
                        "yum update -y\n",
                        "yum install -y httpd\n",
                        "service httpd start\n",
                        "service enable httpd\n",
                        "\n",
                        "cd /var/www/html\n",
                        "\n",
                        "# Download data from S3\n",
                        "wget https://ujjwal-bucket-boto.s3.amazonaws.com/files.zip\n",
                        "unzip files.zip\n",
                        "rm files.zip\n"
                    ]
                }
            ],
            "metadata": {}
        },
        {
            "cell_type": "code",
            "execution_count": 8,
            "source": [
                "ec2_client: EC2ServiceResource = boto3.resource(\"ec2\", region_name=\"us-east-1\")\n",
                "instances = ec2_client.create_instances(\n",
                "    ImageId=\"ami-0c2b8ca1dad447f8a\",\n",
                "    MinCount=1,\n",
                "    MaxCount=1,\n",
                "    InstanceType=\"t2.micro\",\n",
                "    SecurityGroupIds=[\n",
                "        \"sg-0100d37d73841c06d\",\n",
                "    ],\n",
                "    UserData=shell_script,\n",
                ")\n",
                "print(instances)\n"
            ],
            "outputs": [
                {
                    "output_type": "stream",
                    "name": "stdout",
                    "text": [
                        "[ec2.Instance(id='i-01a03fa9c15c0b748')]\n"
                    ]
                }
            ],
            "metadata": {}
        },
        {
            "cell_type": "code",
            "execution_count": 9,
            "source": [
                "instance = instances[0]  # select the instance"
            ],
            "outputs": [],
            "metadata": {}
        },
        {
            "cell_type": "code",
            "execution_count": 10,
            "source": [
                "# Wait for the instance to enter the running state\n",
                "instance.wait_until_running()\n",
                "\"wait over\"\n",
                "instance.load()\n",
                "instance.public_dns_name\n"
            ],
            "outputs": [
                {
                    "output_type": "execute_result",
                    "data": {
                        "text/plain": [
                            "'ec2-3-87-116-17.compute-1.amazonaws.com'"
                        ]
                    },
                    "metadata": {},
                    "execution_count": 10
                }
            ],
            "metadata": {}
        }
    ],
    "metadata": {
        "orig_nbformat": 4,
        "language_info": {
            "name": "python",
            "version": "3.9.6",
            "mimetype": "text/x-python",
            "codemirror_mode": {
                "name": "ipython",
                "version": 3
            },
            "pygments_lexer": "ipython3",
            "nbconvert_exporter": "python",
            "file_extension": ".py"
        },
        "kernelspec": {
            "name": "python3",
            "display_name": "Python 3.9.6 64-bit"
        },
        "interpreter": {
            "hash": "767d51c1340bd893661ea55ea3124f6de3c7a262a8b4abca0554b478b1e2ff90"
        }
    },
    "nbformat": 4,
    "nbformat_minor": 2
}