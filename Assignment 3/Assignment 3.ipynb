{
 "cells": [
  {
   "cell_type": "markdown",
   "source": [
    "Resources used:\n",
    "- https://docs.aws.amazon.com/autoscaling/ec2/userguide/GettingStartedTutorial.html\n",
    "\n",
    "\n",
    "Notes:\n",
    "* It is better to use launch template than launch configuration\n",
    "\n",
    "`put_scaling_policy` will create CloudWatch alarm."
   ],
   "metadata": {}
  },
  {
   "cell_type": "code",
   "execution_count": 10,
   "source": [
    "import boto3\n",
    "from mypy_boto3_autoscaling import AutoScalingClient\n",
    "from mypy_boto3_cloudwatch import CloudWatchClient\n",
    "from pprint import pprint\n"
   ],
   "outputs": [],
   "metadata": {}
  },
  {
   "cell_type": "code",
   "execution_count": 2,
   "source": [
    "shell_script = open(\"script.sh\", \"r\").read()\n",
    "print(shell_script)\n"
   ],
   "outputs": [
    {
     "output_type": "stream",
     "name": "stdout",
     "text": [
      "#!/bin/bash\n",
      "\n",
      "yum update -y\n",
      "yum install -y httpd\n",
      "service httpd start\n",
      "service enable httpd\n",
      "\n",
      "cd /var/www/html\n",
      "\n",
      "# Download data from S3\n",
      "wget https://ujjwal-bucket-boto.s3.amazonaws.com/files.zip\n",
      "unzip files.zip\n",
      "rm files.zip\n"
     ]
    }
   ],
   "metadata": {}
  },
  {
   "cell_type": "code",
   "execution_count": 3,
   "source": [
    "autoscaling_client: AutoScalingClient = boto3.client(\n",
    "    \"autoscaling\", region_name=\"us-east-1\"\n",
    ")\n",
    "\n",
    "autoscaling_group_name: str = \"Assignment 3\"\n",
    "launch_template_id: str = \"lt-095f31ed6be2a5d8e\"\n"
   ],
   "outputs": [],
   "metadata": {}
  },
  {
   "cell_type": "code",
   "execution_count": 6,
   "source": [
    "autoscaling_client.create_auto_scaling_group(\n",
    "    AutoScalingGroupName=autoscaling_group_name,\n",
    "    MinSize=1,\n",
    "    MaxSize=3,\n",
    "    DesiredCapacity=2,\n",
    "    LaunchTemplate={\"LaunchTemplateId\": launch_template_id},\n",
    "    AvailabilityZones=[\"us-east-1b\"],\n",
    ")\n"
   ],
   "outputs": [
    {
     "output_type": "execute_result",
     "data": {
      "text/plain": [
       "{'ResponseMetadata': {'RequestId': '11bf1a6b-7d7a-4f98-8063-cc585a3a4d1e',\n",
       "  'HTTPStatusCode': 200,\n",
       "  'HTTPHeaders': {'x-amzn-requestid': '11bf1a6b-7d7a-4f98-8063-cc585a3a4d1e',\n",
       "   'content-type': 'text/xml',\n",
       "   'content-length': '231',\n",
       "   'date': 'Wed, 08 Sep 2021 04:17:00 GMT'},\n",
       "  'RetryAttempts': 0}}"
      ]
     },
     "metadata": {},
     "execution_count": 6
    }
   ],
   "metadata": {}
  },
  {
   "cell_type": "code",
   "execution_count": 12,
   "source": [
    "scale_up_policy = autoscaling_client.put_scaling_policy(\n",
    "    AutoScalingGroupName=autoscaling_group_name,\n",
    "    PolicyName=\"Scale up\",\n",
    "    PolicyType=\"SimpleScaling\",\n",
    "    AdjustmentType=\"ChangeInCapacity\",\n",
    "    ScalingAdjustment=1,\n",
    ")\n",
    "\n",
    "pprint(scale_up_policy)\n"
   ],
   "outputs": [
    {
     "output_type": "stream",
     "name": "stdout",
     "text": [
      "{'Alarms': [],\n",
      " 'PolicyARN': 'arn:aws:autoscaling:us-east-1:602291782684:scalingPolicy:d2fd9e95-31bb-45fe-bbe8-d68fd60b68af:autoScalingGroupName/Assignment '\n",
      "              '3:policyName/Scale up',\n",
      " 'ResponseMetadata': {'HTTPHeaders': {'content-length': '463',\n",
      "                                      'content-type': 'text/xml',\n",
      "                                      'date': 'Wed, 08 Sep 2021 05:07:05 GMT',\n",
      "                                      'x-amzn-requestid': '4feade6f-9423-4893-8292-308ad47193fe'},\n",
      "                      'HTTPStatusCode': 200,\n",
      "                      'RequestId': '4feade6f-9423-4893-8292-308ad47193fe',\n",
      "                      'RetryAttempts': 0}}\n"
     ]
    }
   ],
   "metadata": {}
  },
  {
   "cell_type": "code",
   "execution_count": 13,
   "source": [
    "scale_down_policy = autoscaling_client.put_scaling_policy(\n",
    "    AutoScalingGroupName=autoscaling_group_name,\n",
    "    PolicyName=\"Scale down\",\n",
    "    # PolicyType=\"SimpleScaling\",\n",
    "    AdjustmentType=\"ChangeInCapacity\",\n",
    "    ScalingAdjustment=-1,\n",
    ")\n",
    "\n",
    "pprint(scale_down_policy)\n"
   ],
   "outputs": [
    {
     "output_type": "stream",
     "name": "stdout",
     "text": [
      "{'Alarms': [],\n",
      " 'PolicyARN': 'arn:aws:autoscaling:us-east-1:602291782684:scalingPolicy:42d282dc-d012-4a19-8190-cb5512e39b07:autoScalingGroupName/Assignment '\n",
      "              '3:policyName/Scale down',\n",
      " 'ResponseMetadata': {'HTTPHeaders': {'content-length': '465',\n",
      "                                      'content-type': 'text/xml',\n",
      "                                      'date': 'Wed, 08 Sep 2021 05:07:09 GMT',\n",
      "                                      'x-amzn-requestid': 'dcc5ad66-d568-4ba4-8c9c-05c9fd3780f3'},\n",
      "                      'HTTPStatusCode': 200,\n",
      "                      'RequestId': 'dcc5ad66-d568-4ba4-8c9c-05c9fd3780f3',\n",
      "                      'RetryAttempts': 0}}\n"
     ]
    }
   ],
   "metadata": {}
  },
  {
   "cell_type": "code",
   "execution_count": 25,
   "source": [
    "cloudwatch_client: CloudWatchClient = boto3.client(\"cloudwatch\")\n",
    "\n",
    "cloudwatch_client.put_metric_alarm(\n",
    "    AlarmName=\"EC2 Scale Up\",\n",
    "    EvaluationPeriods=1,\n",
    "    ComparisonOperator=\"GreaterThanThreshold\",\n",
    "    MetricName=\"CPUUtilization\",\n",
    "    AlarmActions=[scale_up_policy[\"PolicyARN\"]],\n",
    "    Threshold=60,\n",
    "    Period=60,\n",
    "    Namespace=\"AWS/EC2\",\n",
    "    Statistic=\"Average\",\n",
    ")\n"
   ],
   "outputs": [
    {
     "output_type": "execute_result",
     "data": {
      "text/plain": [
       "{'ResponseMetadata': {'RequestId': 'dfa23f2c-9983-4c62-8c01-20ebfa2b3769',\n",
       "  'HTTPStatusCode': 200,\n",
       "  'HTTPHeaders': {'x-amzn-requestid': 'dfa23f2c-9983-4c62-8c01-20ebfa2b3769',\n",
       "   'content-type': 'text/xml',\n",
       "   'content-length': '214',\n",
       "   'date': 'Wed, 08 Sep 2021 05:16:16 GMT'},\n",
       "  'RetryAttempts': 0}}"
      ]
     },
     "metadata": {},
     "execution_count": 25
    }
   ],
   "metadata": {}
  },
  {
   "cell_type": "code",
   "execution_count": 26,
   "source": [
    "cloudwatch_client.put_metric_alarm(\n",
    "    AlarmName=\"EC2 Scale Down\",\n",
    "    EvaluationPeriods=1,\n",
    "    ComparisonOperator=\"LessThanThreshold\",\n",
    "    MetricName=\"CPUUtilization\",\n",
    "    AlarmActions=[scale_down_policy[\"PolicyARN\"]],\n",
    "    Threshold=60,\n",
    "    Period=60,\n",
    "    Namespace=\"AWS/EC2\",\n",
    "    Statistic=\"Average\",\n",
    ")\n"
   ],
   "outputs": [
    {
     "output_type": "execute_result",
     "data": {
      "text/plain": [
       "{'ResponseMetadata': {'RequestId': 'e2f041cd-bace-4472-9d02-36ca548e750a',\n",
       "  'HTTPStatusCode': 200,\n",
       "  'HTTPHeaders': {'x-amzn-requestid': 'e2f041cd-bace-4472-9d02-36ca548e750a',\n",
       "   'content-type': 'text/xml',\n",
       "   'content-length': '214',\n",
       "   'date': 'Wed, 08 Sep 2021 05:16:18 GMT'},\n",
       "  'RetryAttempts': 0}}"
      ]
     },
     "metadata": {},
     "execution_count": 26
    }
   ],
   "metadata": {}
  }
 ],
 "metadata": {
  "orig_nbformat": 4,
  "language_info": {
   "name": "python",
   "version": "3.9.6",
   "mimetype": "text/x-python",
   "codemirror_mode": {
    "name": "ipython",
    "version": 3
   },
   "pygments_lexer": "ipython3",
   "nbconvert_exporter": "python",
   "file_extension": ".py"
  },
  "kernelspec": {
   "name": "python3",
   "display_name": "Python 3.9.6 64-bit"
  },
  "interpreter": {
   "hash": "767d51c1340bd893661ea55ea3124f6de3c7a262a8b4abca0554b478b1e2ff90"
  }
 },
 "nbformat": 4,
 "nbformat_minor": 2
}